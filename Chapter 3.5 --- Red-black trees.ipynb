{
 "cells": [
  {
   "cell_type": "markdown",
   "metadata": {},
   "source": [
    "# Red-black trees\n",
    "\n",
    "* Red-black trees are a type of self-balancing binary search tree. They have $O(\\log{n})$ read times, making them highly efficient.\n",
    "* In addition to the properties of a binary search tree red-black trees have the following invariants:\n",
    "  * Each node is either red or black.\n",
    "  * The root is black.\n",
    "  * All leaves are `null` and black.\n",
    "  * If a node is red, then both its children are black.\n",
    "  * Every path from a given node to any of its descendant `null` nodes contains the same number of black nodes.\n",
    "* Red–black trees offer worst-case guarantees for insertion time, deletion time, and search time.\n",
    "* Read operations are the same as in binary search trees.\n",
    "* Insert and delete are much more compliated, but still $O(\\log{n})$.\n",
    "* Here's the tutorial I'm following: http://eternallyconfuzzled.com/tuts/datastructures/jsw_tut_rbtree.aspx.\n",
    "\n",
    "\n",
    "* A"
   ]
  },
  {
   "cell_type": "code",
   "execution_count": 1,
   "metadata": {},
   "outputs": [],
   "source": [
    "class Node:\n",
    "    def __init__(color, left, right):\n",
    "        self.color = color\n",
    "        self.left = left\n",
    "        self.right = right\n",
    "        \n",
    "\n",
    "class Tree:\n",
    "    def __init__(nodes=None):\n",
    "        self.nodes = nodes"
   ]
  },
  {
   "cell_type": "code",
   "execution_count": null,
   "metadata": {},
   "outputs": [],
   "source": []
  }
 ],
 "metadata": {
  "kernelspec": {
   "display_name": "Python 3",
   "language": "python",
   "name": "python3"
  },
  "language_info": {
   "codemirror_mode": {
    "name": "ipython",
    "version": 3
   },
   "file_extension": ".py",
   "mimetype": "text/x-python",
   "name": "python",
   "nbconvert_exporter": "python",
   "pygments_lexer": "ipython3",
   "version": "3.6.5"
  }
 },
 "nbformat": 4,
 "nbformat_minor": 2
}
